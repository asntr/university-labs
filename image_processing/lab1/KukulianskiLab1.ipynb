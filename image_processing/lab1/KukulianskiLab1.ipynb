{
 "cells": [
  {
   "cell_type": "code",
   "execution_count": 1,
   "metadata": {
    "collapsed": true
   },
   "outputs": [],
   "source": [
    "from skimage import data\n",
    "from scipy.ndimage import morphology\n",
    "import numpy as np\n",
    "from matplotlib import pyplot as plt\n",
    "import skimage\n",
    "%matplotlib inline"
   ]
  },
  {
   "cell_type": "markdown",
   "metadata": {},
   "source": [
    "## Построение морфологического скелета"
   ]
  },
  {
   "cell_type": "markdown",
   "metadata": {},
   "source": [
    "Возьмем в качестве тестового изображения лошадку."
   ]
  },
  {
   "cell_type": "code",
   "execution_count": 2,
   "metadata": {},
   "outputs": [
    {
     "data": {
      "text/plain": [
       "<matplotlib.image.AxesImage at 0x1125d3080>"
      ]
     },
     "execution_count": 2,
     "metadata": {},
     "output_type": "execute_result"
    },
    {
     "data": {
      "image/png": "[encoded data removed]",
      "text/plain": [
       "<matplotlib.figure.Figure at 0x112239438>"
      ]
     },
     "metadata": {},
     "output_type": "display_data"
    }
   ],
   "source": [
    "horse = np.logical_not(data.horse())\n",
    "plt.imshow(horse, cmap='gray')"
   ]
  },
  {
   "cell_type": "markdown",
   "metadata": {},
   "source": [
    "В качестве структурируещего элемента возьмем вот такой круг радиуса $3$ ($B(3)$)."
   ]
  },
  {
   "cell_type": "code",
   "execution_count": 3,
   "metadata": {},
   "outputs": [
    {
     "data": {
      "text/plain": [
       "<matplotlib.image.AxesImage at 0x1130a1198>"
      ]
     },
     "execution_count": 3,
     "metadata": {},
     "output_type": "execute_result"
    },
    {
     "data": {
      "image/png": "[encoded data removed]",
      "text/plain": [
       "<matplotlib.figure.Figure at 0x112f574a8>"
      ]
     },
     "metadata": {},
     "output_type": "display_data"
    }
   ],
   "source": [
    "structure = morphology.generate_binary_structure(2, 1)\n",
    "final_structure = np.zeros((7, 7), dtype=bool)\n",
    "final_structure[2:5,2:5] = structure\n",
    "for i in range(2):\n",
    "    final_structure = morphology.binary_dilation(final_structure, structure)\n",
    "plt.imshow(final_structure, cmap='gray')"
   ]
  },
  {
   "cell_type": "markdown",
   "metadata": {},
   "source": [
    "Реализуем алгоритм построения скелета и выведем его для заданных изображения и структурного элемента."
   ]
  },
  {
   "cell_type": "code",
   "execution_count": 4,
   "metadata": {
    "collapsed": true
   },
   "outputs": [],
   "source": [
    "from functools import reduce\n",
    "\n",
    "def skeletonize(image, struct_element):\n",
    "    skeleton_sets = []\n",
    "    y1 = image\n",
    "    while True:\n",
    "        y2 = morphology.binary_erosion(y1, struct_element)\n",
    "        if not y2.any():\n",
    "            skeleton_sets.append(y1)\n",
    "            break\n",
    "        y3 = morphology.binary_dilation(y2, struct_element)\n",
    "        skeleton_sets.append(np.logical_and(y1, np.logical_not(y3)))\n",
    "        y1 = y2\n",
    "    return reduce(np.logical_or, skeleton_sets), skeleton_sets"
   ]
  },
  {
   "cell_type": "code",
   "execution_count": 5,
   "metadata": {},
   "outputs": [
    {
     "data": {
      "text/plain": [
       "<matplotlib.image.AxesImage at 0x1133ae5f8>"
      ]
     },
     "execution_count": 5,
     "metadata": {},
     "output_type": "execute_result"
    },
    {
     "data": {
      "image/png": "[encoded data removed]",
      "text/plain": [
       "<matplotlib.figure.Figure at 0x113053ba8>"
      ]
     },
     "metadata": {},
     "output_type": "display_data"
    }
   ],
   "source": [
    "skeleton, skeleton_sets = skeletonize(horse, final_structure)\n",
    "plt.imshow(skeleton, cmap='gray')"
   ]
  },
  {
   "cell_type": "markdown",
   "metadata": {},
   "source": [
    "Восстановим и проверим совпадут ли изображения (исходное и восстановленное)."
   ]
  },
  {
   "cell_type": "code",
   "execution_count": 6,
   "metadata": {
    "collapsed": true
   },
   "outputs": [],
   "source": [
    "def restore(skeleton_sets, structure):\n",
    "    n = len(skeleton_sets)\n",
    "    a = np.zeros(skeleton_sets[0].shape, dtype=bool)\n",
    "    for i, skeleton_set in enumerate(reversed(skeleton_sets)):\n",
    "        a = np.logical_or(a, skeleton_set)\n",
    "        if i == n - 1:\n",
    "            break\n",
    "        a = morphology.binary_dilation(a, structure)\n",
    "    return a"
   ]
  },
  {
   "cell_type": "code",
   "execution_count": 7,
   "metadata": {},
   "outputs": [
    {
     "name": "stdout",
     "output_type": "stream",
     "text": [
      "Q: Are images equal?\n",
      "A: True\n"
     ]
    },
    {
     "data": {
      "image/png": "[encoded data removed]",
      "text/plain": [
       "<matplotlib.figure.Figure at 0x1130fa080>"
      ]
     },
     "metadata": {},
     "output_type": "display_data"
    }
   ],
   "source": [
    "restored_horse = restore(skeleton_sets, final_structure)\n",
    "plt.imshow(restored_horse, cmap='gray')\n",
    "print('Q: Are images equal?\\nA: {}'.format((restored_horse == horse).all()))"
   ]
  }
 ],
 "metadata": {
  "kernelspec": {
   "display_name": "Python 3",
   "language": "python",
   "name": "python3"
  },
  "language_info": {
   "codemirror_mode": {
    "name": "ipython",
    "version": 3
   },
   "file_extension": ".py",
   "mimetype": "text/x-python",
   "name": "python",
   "nbconvert_exporter": "python",
   "pygments_lexer": "ipython3",
   "version": "3.6.1"
  }
 },
 "nbformat": 4,
 "nbformat_minor": 2
}
