{
 "cells": [
  {
   "cell_type": "markdown",
   "metadata": {},
   "source": [
    "## Построение скелета и выпуклой оболочки бинарного изображения"
   ]
  },
  {
   "cell_type": "code",
   "execution_count": 1,
   "metadata": {
    "collapsed": true
   },
   "outputs": [],
   "source": [
    "from scipy.ndimage import morphology\n",
    "import numpy as np\n",
    "from matplotlib import pyplot as plt\n",
    "%matplotlib inline"
   ]
  },
  {
   "cell_type": "markdown",
   "metadata": {},
   "source": [
    "Введем операцию $\\bigotimes$ из теории."
   ]
  },
  {
   "cell_type": "code",
   "execution_count": 2,
   "metadata": {
    "collapsed": true
   },
   "outputs": [],
   "source": [
    "def unnamed_operation(x, a, b):\n",
    "    lm = morphology.binary_erosion(x, a)\n",
    "    rm = morphology.binary_erosion(np.logical_not(x), b)\n",
    "    return np.logical_and(lm, rm)"
   ]
  },
  {
   "cell_type": "markdown",
   "metadata": {},
   "source": [
    "И через нее операции утолщения и утоньшения."
   ]
  },
  {
   "cell_type": "code",
   "execution_count": 3,
   "metadata": {
    "collapsed": true
   },
   "outputs": [],
   "source": [
    "def thickening(x, a, b):\n",
    "    return np.logical_or(x, unnamed_operation(x, a, b))\n",
    "\n",
    "def thinning(x, a, b):\n",
    "    return np.logical_and(x, np.logical_not(unnamed_operation(x, a, b)))"
   ]
  },
  {
   "cell_type": "markdown",
   "metadata": {},
   "source": [
    "Возьмем полюбившуюся лошадку."
   ]
  },
  {
   "cell_type": "code",
   "execution_count": 4,
   "metadata": {},
   "outputs": [
    {
     "data": {
      "text/plain": [
       "<matplotlib.image.AxesImage at 0x11c2ed400>"
      ]
     },
     "execution_count": 4,
     "metadata": {},
     "output_type": "execute_result"
    },
    {
     "data": {
      "image/png": "[encoded data removed]",
      "text/plain": [
       "<matplotlib.figure.Figure at 0x1173514a8>"
      ]
     },
     "metadata": {},
     "output_type": "display_data"
    }
   ],
   "source": [
    "from skimage import data\n",
    "\n",
    "horse = np.logical_not(data.horse())\n",
    "plt.imshow(horse, cmap='gray')"
   ]
  },
  {
   "cell_type": "markdown",
   "metadata": {},
   "source": [
    "Сгенерируем блоки для построения скелета."
   ]
  },
  {
   "cell_type": "code",
   "execution_count": 5,
   "metadata": {
    "collapsed": true
   },
   "outputs": [],
   "source": [
    "def generate_t_structures():\n",
    "    t = [None] * 8\n",
    "    t[0] = np.array([\n",
    "        [1,1,1],\n",
    "        [0,1,0],\n",
    "        [0,0,0]\n",
    "    ], dtype=bool), np.array([\n",
    "        [0,0,0],\n",
    "        [0,0,0],\n",
    "        [1,1,1]\n",
    "    ], dtype=bool)\n",
    "    for i in range(3):\n",
    "        t[i+1] = np.rot90(t[i][0]), np.rot90(t[i][1])\n",
    "    t[4] = np.array([\n",
    "        [0,1,0],\n",
    "        [0,1,1],\n",
    "        [0,0,0]\n",
    "    ], dtype=bool), np.array([\n",
    "        [0,0,0],\n",
    "        [1,0,0],\n",
    "        [1,1,0]\n",
    "    ], dtype=bool)\n",
    "    for i in range(4, 7):\n",
    "         t[i+1] = np.rot90(t[i][0]), np.rot90(t[i][1])\n",
    "    return t"
   ]
  },
  {
   "cell_type": "markdown",
   "metadata": {},
   "source": [
    "И реализуем итерационный алгоритм его построения."
   ]
  },
  {
   "cell_type": "code",
   "execution_count": 6,
   "metadata": {
    "collapsed": true
   },
   "outputs": [],
   "source": [
    "def thinning_skeletonize(image):\n",
    "    t = generate_t_structures()\n",
    "    previous_skeleton = np.zeros(image.shape)\n",
    "    skeleton = image.copy()\n",
    "    while np.logical_xor(previous_skeleton, skeleton).any():\n",
    "        previous_skeleton = skeleton.copy()\n",
    "        for i in range(8):\n",
    "            skeleton = thinning(skeleton, *t[i])\n",
    "    return skeleton"
   ]
  },
  {
   "cell_type": "markdown",
   "metadata": {},
   "source": [
    "Результат:"
   ]
  },
  {
   "cell_type": "code",
   "execution_count": 7,
   "metadata": {},
   "outputs": [
    {
     "name": "stdout",
     "output_type": "stream",
     "text": [
      "CPU times: user 2.02 s, sys: 22.1 ms, total: 2.05 s\n",
      "Wall time: 2.08 s\n"
     ]
    },
    {
     "data": {
      "image/png": "[encoded data removed]",
      "text/plain": [
       "<matplotlib.figure.Figure at 0x11b961828>"
      ]
     },
     "metadata": {},
     "output_type": "display_data"
    }
   ],
   "source": [
    "%%time\n",
    "skeleton = thinning_skeletonize(horse)\n",
    "plt.imshow(skeleton, cmap='gray')"
   ]
  },
  {
   "cell_type": "markdown",
   "metadata": {},
   "source": [
    "Генерируем блоки для построения 45-выпуклой оболочки"
   ]
  },
  {
   "cell_type": "code",
   "execution_count": 8,
   "metadata": {
    "collapsed": true
   },
   "outputs": [],
   "source": [
    "def generate_another_t_structures():\n",
    "    t = [None] * 8\n",
    "    point =  np.array([\n",
    "        [0,0,0],\n",
    "        [0,1,0],\n",
    "        [0,0,0]\n",
    "    ], dtype=bool)\n",
    "    t[0] = np.array([\n",
    "        [1,1,1],\n",
    "        [0,0,1],\n",
    "        [0,0,0]\n",
    "    ], dtype=bool), point.copy()\n",
    "    for i in range(3):\n",
    "        t[i+1] = np.rot90(t[i][0]), point.copy()\n",
    "    t[4] = np.array([\n",
    "        [1,1,1],\n",
    "        [1,0,0],\n",
    "        [0,0,0]\n",
    "    ], dtype=bool), point.copy()\n",
    "    for i in range(4, 7):\n",
    "         t[i+1] = np.rot90(t[i][0]), point.copy()\n",
    "    return t"
   ]
  },
  {
   "cell_type": "markdown",
   "metadata": {},
   "source": [
    "Итерационный алгоритм"
   ]
  },
  {
   "cell_type": "code",
   "execution_count": 9,
   "metadata": {
    "collapsed": true
   },
   "outputs": [],
   "source": [
    "def thickening_convex_hull(image):\n",
    "    t = generate_another_t_structures()\n",
    "    previous_hull = np.zeros(image.shape, dtype=bool)\n",
    "    hull = image.copy()\n",
    "    while np.logical_xor(previous_hull, hull).any():\n",
    "        previous_hull = hull.copy()\n",
    "        for i in range(8):\n",
    "            hull = thickening(hull, *t[i])\n",
    "    return hull"
   ]
  },
  {
   "cell_type": "markdown",
   "metadata": {},
   "source": [
    "Результат очень похож на правду!"
   ]
  },
  {
   "cell_type": "code",
   "execution_count": 11,
   "metadata": {},
   "outputs": [
    {
     "name": "stdout",
     "output_type": "stream",
     "text": [
      "CPU times: user 14 s, sys: 139 ms, total: 14.1 s\n",
      "Wall time: 14.2 s\n"
     ]
    },
    {
     "data": {
      "image/png": "[encoded data removed]",
      "text/plain": [
       "<matplotlib.figure.Figure at 0x11c32d9e8>"
      ]
     },
     "metadata": {},
     "output_type": "display_data"
    }
   ],
   "source": [
    "%%time\n",
    "convex_hull = thickening_convex_hull(horse)\n",
    "plt.imshow(convex_hull, cmap='gray')"
   ]
  }
 ],
 "metadata": {
  "kernelspec": {
   "display_name": "Python 3",
   "language": "python",
   "name": "python3"
  },
  "language_info": {
   "codemirror_mode": {
    "name": "ipython",
    "version": 3
   },
   "file_extension": ".py",
   "mimetype": "text/x-python",
   "name": "python",
   "nbconvert_exporter": "python",
   "pygments_lexer": "ipython3",
   "version": "3.6.1"
  }
 },
 "nbformat": 4,
 "nbformat_minor": 2
}
